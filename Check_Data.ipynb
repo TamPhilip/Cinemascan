{
 "cells": [
  {
   "cell_type": "code",
   "execution_count": 11,
   "metadata": {},
   "outputs": [
    {
     "ename": "SyntaxError",
     "evalue": "invalid syntax (<ipython-input-11-19c4feb7689a>, line 24)",
     "output_type": "error",
     "traceback": [
      "\u001b[0;36m  File \u001b[0;32m\"<ipython-input-11-19c4feb7689a>\"\u001b[0;36m, line \u001b[0;32m24\u001b[0m\n\u001b[0;31m    words_list = for index, x in enumerate(plot_df[\"summary\"]):\u001b[0m\n\u001b[0m                   ^\u001b[0m\n\u001b[0;31mSyntaxError\u001b[0m\u001b[0;31m:\u001b[0m invalid syntax\n"
     ]
    }
   ],
   "source": [
    "import pandas as pd\n",
    "import torchvision\n",
    "\n",
    "df = pd.read_csv('movie-data/movie.metadata.tsv',delimiter='\\t',encoding='utf-8')\n",
    "\n",
    "#example\n",
    "print(df.head())\n",
    "#shape\n",
    "print(df.shape)\n",
    "#dimensions\n",
    "print(df.ndim)\n",
    "# columns names\n",
    "print(df.columns)\n",
    "# wikiid\n",
    "print(df['wikiid'])\n",
    "# title\n",
    "print(df['title'])\n",
    "# genres -> FIX\n",
    "print(df['genres'])\n",
    "\n",
    "plot_df = pd.read_csv('movie-data/plot_summaries.txt', delimiter='\\t')\n",
    "print(plot_df[\"summary\"].head(10))\n",
    "\n",
    "words_list = ]for x in enumerate(plot_df[\"summary\"])]\n",
    "\n",
    "print(word_list)\n",
    "\n",
    "# print(df['language'])\n",
    "# print(df['country'])"
   ]
  },
  {
   "cell_type": "code",
   "execution_count": null,
   "metadata": {},
   "outputs": [],
   "source": []
  },
  {
   "cell_type": "code",
   "execution_count": null,
   "metadata": {},
   "outputs": [],
   "source": []
  }
 ],
 "metadata": {
  "kernelspec": {
   "display_name": "Python 3",
   "language": "python",
   "name": "python3"
  },
  "language_info": {
   "codemirror_mode": {
    "name": "ipython",
    "version": 3
   },
   "file_extension": ".py",
   "mimetype": "text/x-python",
   "name": "python",
   "nbconvert_exporter": "python",
   "pygments_lexer": "ipython3",
   "version": "3.7.2"
  }
 },
 "nbformat": 4,
 "nbformat_minor": 2
}
